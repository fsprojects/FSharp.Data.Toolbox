
        {
            "cells": [
          {
           "cell_type": "markdown",
           "metadata": {},
           
           "source": ["[![Binder](img/badge-binder.svg)](https://mybinder.org/v2/gh/fsprojects/FSharp.Data.Toolbox/gh-pages?filepath=SasProvider.ipynb)\u0026emsp;\n",
"[![Script](img/badge-script.svg)](/FSharp.Data.Toolbox//SasProvider.fsx)\u0026emsp;\n",
"[![Notebook](img/badge-notebook.svg)](/FSharp.Data.Toolbox//SasProvider.ipynb)\n",
"\n",
"\n",
"F# Data Toolbox: SAS dataset type provider\n",
"========================\n",
"\n",
"The SAS dataset (sas7bdat) type provider allows exploratory \n",
"programming with SAS files and provides native access \n",
"to SAS datasets. No SAS software or OLE DB providers required.\n",
"\n",
"Opening a SAS dataset file\n",
"-----------------------------------------\n",
"\n"]
          }
,
          {
           "cell_type": "code",
           "metadata": {},
            "execution_count": null, "outputs": [], 
           "source": ["#r \"nuget: FSharp.Data.Toolbox.Sas,0.20.2\"\n"]
          }
,
          {
           "cell_type": "markdown",
           "metadata": {},
           
           "source": ["You can use FSharp.Data.Toolbox in [dotnet interactive](https://github.com/dotnet/interactive) notebooks in [Visual Studio Code](https://code.visualstudio.com/) or [Jupyter](https://jupyter.org/), or in F# scripts (`.fsx` files), by referencing the package as follows:\n",
"    \n",
"    // Use one of the following two lines\n",
"    #r \"nuget: FSharp.Data.Toolbox.Sas\" // Use the latest version\n",
"    #r \"nuget: FSharp.Data.Toolbox.Sas,0.20.2\" // Use a specific version\n"]
          }
,
          {
           "cell_type": "code",
           "metadata": {},
            "execution_count": 3, "outputs": [], 
           "source": ["#r \"nuget: FSharp.Data\"\n",
"\n",
"open FSharp.Data.Toolbox.Sas\n",
"open FSharp.Data\n"]
          }
,
          {
           "cell_type": "markdown",
           "metadata": {},
           
           "source": ["### Open SAS dataset by passing file name to SasFileTypeProvider type\n",
"\n",
"The library gives you a parameterized type provider `SasFileTypeProvider` that\n",
"takes the SAS data file as an argument:\n"]
          }
,
          {
           "cell_type": "code",
           "metadata": {},
            "execution_count": 4, "outputs": [], 
           "source": ["[\u003cLiteral\u003e] \n",
"let sasPath = @\"../tests/FSharp.Data.Toolbox.Sas.Tests/files/acadindx.sas7bdat\"\n",
"let sasFile = new SasFileTypeProvider\u003csasPath\u003e()\n"]
          }
,
          {
           "cell_type": "markdown",
           "metadata": {},
           
           "source": ["After openning the dataset, you can call methods to access \n",
"SAS metadata and the data itself.\n",
"\n",
"Accessing metadata\n",
"---------------------------------------\n",
"The following examples show how to access meta-information about SAS dataset.\n"]
          }
,
          {
           "cell_type": "code",
           "metadata": {},
            "execution_count": 5, "outputs": [], 
           "source": ["let datasetName = sasFile.Header.DataSet.Trim()\n",
"let architecture = sasFile.Header.Bits\n",
"let rowCount = sasFile.MetaData.RowCount\n",
"\n",
"// Get a list of dataset columns\n",
"let cols = sasFile.MetaData.Columns\n",
"printfn \"Number of columns: %d\" (cols |\u003e Seq.length)\n",
"printfn \"Names of columns: %s\"  (cols |\u003e Seq.map (fun col -\u003e col.Name) |\u003e String.concat \", \")\n"]
          }
,
          {
           "cell_type": "markdown",
           "metadata": {},
           
           "source": ["Accessing data in a strongly-typed fashion\n",
"-----------------------------------\n",
"Good for exploratory programming. IntelliSense access to column names. \n"]
          }
,
          {
           "cell_type": "code",
           "metadata": {},
            "execution_count": 6, "outputs": [], 
           "source": ["// read sixth row of data\n",
"let row = sasFile.Observations |\u003e Seq.skip 5 |\u003e Seq.head\n",
"printfn \"Column \u0027id\u0027 value: %A\" row.id\n",
"printfn \"Column \u0027reading\u0027 value: %A\" row.reading\n"]
          }
,
          {
           "cell_type": "markdown",
           "metadata": {},
           
           "source": ["The following examples show a couple of calculations that you can write\n",
"using the standard F# library functions over the data obtained using the type provider:\n"]
          }
,
          {
           "cell_type": "code",
           "metadata": {},
            "execution_count": 7, "outputs": [], 
           "source": ["// sum first 10 \u0027reading\u0027 variable values\n",
"sasFile.Observations\n",
"|\u003e Seq.take 10\n",
"|\u003e Seq.sumBy ( fun obs -\u003e obs.reading )\n",
"\n",
"// calculate mean\n",
"let readingMean = \n",
"  sasFile.Observations\n",
"  |\u003e Seq.averageBy (fun obs -\u003e obs.reading )\n",
"\n",
"// standard deviation \n",
"let readingStdDev =\n",
"  let sum =\n",
"    sasFile.Observations\n",
"    |\u003e Seq.map (fun obs -\u003e (obs.reading - readingMean) ** 2.0)\n",
"    |\u003e Seq.sum\n",
"  sqrt (sum / Seq.length sasFile.Observations)\n",
"\n",
"// min\n",
"sasFile.Observations\n",
"|\u003e Seq.map (fun obs -\u003e obs.reading)\n",
"|\u003e Seq.min\n",
"\n",
"// ...and max\n",
"sasFile.Observations\n",
"|\u003e Seq.map (fun obs -\u003e obs.reading)\n",
"|\u003e Seq.max\n"]
          }
,
          {
           "cell_type": "markdown",
           "metadata": {},
           
           "source": ["Accessing data with F# Query Expressions\n",
"--------------------------------------\n",
"\u0027query { expression } \u0027 syntax can be used to access SAS dataset\n"]
          }
,
          {
           "cell_type": "code",
           "metadata": {},
            "execution_count": 8, "outputs": [], 
           "source": ["// multiply \u0027reading\u0027 by \u0027writing\u0027 and sum\n",
"query {\n",
"    for obs in sasFile.Observations do\n",
"    sumBy (obs.reading * obs.writing)\n",
"}\n",
"\n",
"// ..is equivalent to:\n",
"sasFile.Observations\n",
"|\u003e Seq.map (fun obs -\u003e obs.reading * obs.writing)\n",
"|\u003e Seq.sum\n"]
          }
,
          {
           "cell_type": "markdown",
           "metadata": {},
           
           "source": ["You can use other constructs available inside F# query expressions to\n",
"filter the data  or perform aggregations:\n",
"\n"]
          }
,
          {
           "cell_type": "code",
           "metadata": {},
            "execution_count": 9, "outputs": [], 
           "source": ["// filter data\n",
"query {\n",
"    for obs in sasFile.Observations do\n",
"    where (obs.female = Number 1. )\n",
"    select obs.female\n",
"    }\n",
"\n",
"// aggregate \n",
"query {\n",
"    for obs in sasFile.Observations do\n",
"    where (obs.female \u003c\u003e Number 1. )\n",
"    count\n",
"    }\n",
"\n",
"query {\n",
"    for obs in sasFile.Observations do\n",
"    where (obs.female \u003c\u003e Number 1. )\n",
"    sumBy obs.writing\n",
"    }\n"]
          }
,
          {
           "cell_type": "markdown",
           "metadata": {},
           
           "source": ["The following is a slightly more interesting example which joins data from two data sets:\n"]
          }
,
          {
           "cell_type": "code",
           "metadata": {},
            "execution_count": 10, "outputs": [], 
           "source": ["// join two datasets\n",
"[\u003cLiteral\u003e] \n",
"let crimePath = @\"../tests/FSharp.Data.Toolbox.Sas.Tests/files/crime.sas7bdat\" \n",
"let crimeFile = new SasFileTypeProvider\u003ccrimePath\u003e()\n",
"\n",
"[\u003cLiteral\u003e] \n",
"let statesPath = @\"../tests/FSharp.Data.Toolbox.Sas.Tests/files/states.sas7bdat\" \n",
"let statesFile = new SasFileTypeProvider\u003cstatesPath\u003e()\n",
"\n",
"let trim x = \n",
"  let (Character s) = x \n",
"  s.Trim()\n",
"\n",
"query {\n",
"  for crime in crimeFile.Observations do\n",
"  join state in statesFile.Observations \n",
"      on (trim crime.State = trim state.State)\n",
"  select (crime.murder_rate, state.State)\n",
"}\n"]
          }
,
          {
           "cell_type": "markdown",
           "metadata": {},
           
           "source": ["Accessing data in a generic way\n",
"--------------------------------------\n",
"Can be used for bulk data processing or converting SAS files to text files.\n"]
          }
,
          {
           "cell_type": "code",
           "metadata": {},
            "execution_count": 11, "outputs": [], 
           "source": ["let valueToText value = \n",
"  match value with\n",
"  | Number n -\u003e n.ToString()\n",
"  | Character s -\u003e s.Trim()\n",
"  | Time t -\u003e t.ToString(\"HH:mm:ss\")\n",
"  | Date d -\u003e d.ToString(\"yyyy-MM-dd\")\n",
"  | DateAndTime dt -\u003e dt.ToString(\"O\")\n",
"  | Empty -\u003e \"\"\n",
"\n",
"sasFile.Rows\n",
"  |\u003e Seq.take 100\n",
"  |\u003e Seq.iter (fun row -\u003e\n",
"      let line =\n",
"          row\n",
"          |\u003e Seq.map valueToText\n",
"          |\u003e String.concat \",\" \n",
"      printfn \"%s\" line )\n"]
          }
,
          {
           "cell_type": "markdown",
           "metadata": {},
           
           "source": ["Displaying data in a grid\n",
"-------------------------\n",
"\n",
"We can display the data in a grid. \n"]
          }
,
          {
           "cell_type": "code",
           "metadata": {},
            "execution_count": 12, "outputs": [], 
           "source": ["open System.Windows.Forms\n",
"\n",
"// Create a window with a grid\n",
"let frm = \n",
"    new Form(TopMost = true, Visible = true, \n",
"        Text = \"F# Type Provider for SAS: \" + System.IO.Path.GetFileName sasFile.FileName, \n",
"        Width = 600, Height = 600)\n",
"let grid = new DataGridView(Dock = DockStyle.Fill, ReadOnly = true)\n",
"let btn = new Button(Text = \"Read next page\", Dock = DockStyle.Bottom)\n",
"let status = new StatusBar(ShowPanels = true, Dock = DockStyle.Bottom)\n",
"let pageStatus = new StatusBarPanel(Text = \"Page\")\n",
"let recordStatus = new StatusBarPanel(Text = \"Records\", Width = 300 )\n",
"status.Panels.Add pageStatus\n",
"status.Panels.Add recordStatus\n",
"frm.Controls.Add grid\n",
"frm.Controls.Add btn\n",
"frm.Controls.Add status\n",
"\n",
"let pageSize = 100\n",
"\n",
"let read page = \n",
"    sasFile.Observations \n",
"    |\u003e Seq.skip (pageSize*(page - 1))\n",
"    |\u003e Seq.truncate pageSize\n",
"\n",
"// Add columns\n",
"let columns = sasFile.MetaData.Columns\n",
"grid.ColumnCount \u003c- columns.Length\n",
"for i = 0 to columns.Length - 1 do\n",
"    grid.Columns.[i].HeaderText \u003c- columns.[i].Name\n",
"\n",
"// Display data\n",
"let show page =\n",
"    let data = read page\n",
"    grid.Rows.Clear()\n",
"    pageStatus.Text \u003c- sprintf \"Page %i\" page\n",
"    recordStatus.Text \u003c- sprintf \"Records %i-%i of %i\" \n",
"        \u003c| (page-1)*pageSize + 1 \n",
"        \u003c| min (page*pageSize) sasFile.MetaData.RowCount \n",
"        \u003c| sasFile.MetaData.RowCount\n",
"    for row in data do\n",
"        let values = [| for value in row -\u003e valueToText value |]\n",
"\n",
"        let gridRow = new DataGridViewRow()\n",
"        gridRow.CreateCells grid\n",
"\n",
"        for col = 0 to columns.Length - 1 do\n",
"            gridRow.Cells.[col].Value \u003c- values.[col]\n",
"\n",
"        grid.Rows.Add gridRow |\u003e ignore\n",
"    \n",
"let mutable page = 1\n",
"btn.Click.Add(fun _ -\u003e \n",
"    if page*pageSize \u003c sasFile.MetaData.RowCount then\n",
"        page \u003c- page + 1\n",
"    else \n",
"        page \u003c- 1\n",
"    show page \n",
"    )\n",
"\n",
"show page\n"]
          }
,
          {
           "cell_type": "markdown",
           "metadata": {},
           
           "source": ["![SAS dataset viewer](img/SasViewer.png)\n"]
          }],
            "metadata": {
            "kernelspec": {"display_name": ".NET (F#)", "language": "F#", "name": ".net-fsharp"},
            "langauge_info": {
        "file_extension": ".fs",
        "mimetype": "text/x-fsharp",
        "name": "C#",
        "pygments_lexer": "fsharp",
        "version": "4.5"
        }
        },
            "nbformat": 4,
            "nbformat_minor": 1
        }
        

