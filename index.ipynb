
        {
            "cells": [
          {
           "cell_type": "markdown",
           "metadata": {},
           
           "source": ["F# Data Toolbox\n",
"===================\n",
"\n",
"F# Data Toolbox is a library for various data access APIs based on FSharp.Data. It\n",
"will contain individual packages for each data source.\n",
"\n",
"The first package for Twitter access is available through NuGet.\n",
"\n",
"\u003cdiv class=\"row\"\u003e\n",
"  \u003cdiv class=\"span1\"\u003e\u003c/div\u003e\n",
"  \u003cdiv class=\"span6\"\u003e\n",
"    \u003cdiv class=\"well well-small\" id=\"nuget\"\u003e\n",
"      The F# Data Toolbox library can be \u003ca href=\"https://nuget.org/packages/FSharp.Data.Toolbox.Twitter\"\u003einstalled from NuGet\u003c/a\u003e:\n",
"      \u003cpre\u003ePM\u003e Install-Package FSharp.Data.Toolbox.Twitter\u003c/pre\u003e\n",
"    \u003c/div\u003e\n",
"  \u003c/div\u003e\n",
"  \u003cdiv class=\"span1\"\u003e\u003c/div\u003e\n",
"\u003c/div\u003e\n",
"\n",
"\n",
"Samples \u0026 documentation\n",
"-----------------------\n",
"\n",
"The library currently includes the Twitter type provider for access to Twitter users\n",
"and feeds, and SAS type provider to read SAS dataset files. \n",
"\n",
" * [Twitter type provider](TwitterProvider.html) contains examples on how to use this toolbox to access Twitter.\n",
" * [SAS type provider](SasProvider.html) contains examples on how to use this toolbox to access SAS datasets.\n",
" * [BIS type provider](BisProvider.html) contains examples on how to use this toolbox to access Bank for International Settlements datasets.\n",
"\n",
" \n",
"Contributing and copyright\n",
"--------------------------\n",
"\n",
"The project is hosted on [GitHub][gh] where you can [report issues][issues], fork \n",
"the project and submit pull requests. If you\u0027re adding new public API, please also \n",
"consider adding [samples][content] that can be turned into a documentation. You might\n",
"also want to read [library design notes][readme] to understand how it works.\n",
"\n",
"The library is available under Public Domain license, which allows modification and \n",
"redistribution for both commercial and non-commercial purposes. For more information see the \n",
"[License file][license] in the GitHub repository. \n",
"\n",
"  [content]: https://github.com/fsprojects/FSharp.Data.Toolbox/tree/master/docs \n",
"  [gh]: https://github.com/fsprojects/FSharp.Data.Toolbox\n",
"  [issues]: https://github.com/fsprojects/FSharp.Data.Toolbox/issues\n",
"  [readme]: https://github.com/fsprojects/FSharp.Data.Toolbox/blob/master/README.md\n",
"  [license]: https://github.com/fsprojects/FSharp.Data.Toolbox/blob/master/LICENSE.txt\n"]
          }],
            "metadata": {
            "kernelspec": {"display_name": ".NET (F#)", "language": "F#", "name": ".net-fsharp"},
            "langauge_info": {
        "file_extension": ".fs",
        "mimetype": "text/x-fsharp",
        "name": "C#",
        "pygments_lexer": "fsharp",
        "version": "4.5"
        }
        },
            "nbformat": 4,
            "nbformat_minor": 1
        }
        

