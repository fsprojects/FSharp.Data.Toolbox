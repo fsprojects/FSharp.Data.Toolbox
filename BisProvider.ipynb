
        {
            "cells": [
          {
           "cell_type": "markdown",
           "metadata": {},
           
           "source": ["F# Data Toolbox: BIS Type Provider\n",
"========================\n",
"\n",
"The [Bank for International Settlements (BIS)][bis] publishes statistics relevant for anaylsis. Most of the data is compiled in cooperation with central banks and other national authorities. \n",
"More information can be found on the BIS statistics [website][stats]. \n",
"The data exploration can be done either through the [BIS Statistics Explorer][exp], [BIS Statistics Warehouse][whouse] or by \n",
"downloading the [raw CSV][raw] formatted files. The last option is very interesting from an automation perspective, as it allows you to use an analysis tool of your choice.\n",
"The following statistics can be downloaded from [here][raw]:\n",
"\n",
"- Locational banking statistics\n",
"- Consolidated banking statistics\n",
"- Debt securities statistics\n",
"- Credit to the non-financial sector\n",
"- Debt service ratios for the private non-financial sector\n",
"- Property prices: selected series\n",
"- Property prices: long series\n",
"- Effective exchange rate indices\n",
"\n",
"The BIS Type Provider extracts metadata out of the CSV file and generates an abstraction layer which simplifies filtering on the file. The main advantages are:\n",
"\n",
"- Developer/research analyst analysis data through abstraction layer. No knowledge of CSV file parsing required.\n",
"- The IDE provides syntax highlighting based on the metadata extracted out of the CSV file. The consumer does not need to know the dimension and codes by heart.\n",
"- Compile-time errors are thrown in case dimensions or codes which do not exist in the metadata are used.\n",
"- Simple but powerful way of filtering the data (observations).\n",
"- One generic F# Type Provider for all of the above mentioned statistics.\n",
"\n",
"\n",
"The following examples show how to run the BIS Type Provider.\n",
"First we download the [Property prices: long series][raw] CSV file as the structure of this data is very simple and perfect for this demo. Firstly (see code block below), the “PropertyPrice” type must be defined. By doing this, the BIS Type Provider analysis the CSV file and generates the PropertyPrice.ObservationFilter plus one type per dimension of the property price data. In this case the types “Frequency” and “Reference Area” are generated and each of them contains generated fields per dimension member.\n",
"As shown in the picture below, the metadata is reflected in the code. With this, we have full IntelliSense support and compile-time checks!\n",
"\n",
"![BIS Property Prices](img/BisPropertyPrices.jpg)\n",
"\n",
"It requires only 3-4 lines of code to filter out a certain observation out of the data. The last part of the code builds up a line chart for the data we are looking for. I’m using the FSharp.Charting for the visualization.\n"]
          }
,
          {
           "cell_type": "code",
           "metadata": {},
            "execution_count": 2, "outputs": [], 
           "source": ["type PropertyPrice = Dataset\u003c\"C:/full_BIS_LONG_PP_csv.csv\"\u003e\n",
"\n",
"....\n",
"\n",
"// Create filter\n",
"let filter = new PropertyPrice.ObservationFilter()\n",
"\n",
"// Define criteria\n",
"filter.``Reference area`` \u003c- [ PropertyPrice.``Reference area``.``CH:Switzerland`` ]\n",
"\n",
"// Apply filter and plot\n",
"filter.Get()\n",
"        |\u003e Seq.map (fun o -\u003e \n",
"                        o.values\n",
"                            |\u003e Seq.filter (fun v -\u003e v.value.IsSome)\n",
"                            |\u003e Seq.map (fun v -\u003e v.value.Value)\n",
"                            |\u003e (fun x -\u003e Chart.Line(x, Name = o.key)))\n",
"    |\u003e Chart.Combine\n",
"    |\u003e Chart.WithLegend(true, Title=\"Switzerland property prices\")\n",
"    |\u003e Chart.Show \n"]
          }
,
          {
           "cell_type": "markdown",
           "metadata": {},
           
           "source": ["And this is the output of this code.\n",
"\n",
"![BIS Property Prices Chart](img/BisPropertyPricesChart.jpg)\n",
"\n",
"Let’s take one step further and analyse data of a much more complex dataset. The CBS file contains more records and dimensions than the Property prices dataset. The following piece of code filters out certain observations on Switzerland vis-à-vis Bahamas and Singapore and plots the outcome in a chart. Same as for the previous example, the CSV file is analysed by the BIS Type Provider and relevant types are generated.\n"]
          }
,
          {
           "cell_type": "code",
           "metadata": {},
            "execution_count": 3, "outputs": [], 
           "source": ["type Cbs = Dataset\u003c\"C:/full_BIS_CBS_csv.csv\"\u003e\n",
"\n",
"....\n",
"     \n",
"let filter = new Cbs.ObservationFilter()\n",
"\n",
"filter.Measure                               \u003c- [ Cbs.Measure.``S:Amounts outstanding / Stocks`` ]\n",
"filter.``Reporting country``                 \u003c- [ Cbs.``Reporting country``.``CH:Switzerland`` ]\n",
"filter.``CBS bank type``                     \u003c- [ Cbs.``CBS bank type``.``4R:Domestic banks(4B), excl. domestic positions`` ]\n",
"filter.``CBS reporting basis``               \u003c- [ Cbs.``CBS reporting basis``.``F:Immediate counterparty basis`` ]\n",
"filter.``Balance sheet position``            \u003c- [ Cbs.``Balance sheet position``.``I:International claims`` ]\n",
"filter.``Type of instruments``               \u003c- [ Cbs.``Type of instruments``.``A:All instruments`` ]\n",
"filter.``Remaining maturity``                \u003c- [ Cbs.``Remaining maturity``.``A:All maturities`` ]\n",
"filter.``Currency type of booking location`` \u003c- [ Cbs.``Currency type of booking location``.``TO1:All currencies``]\n",
"filter.``Counterparty sector``               \u003c- [ Cbs.``Counterparty sector``.``A:All sectors`` ]\n",
"filter.``Counterparty country``              \u003c- [ Cbs.``Counterparty country``.``BS:Bahamas``; Cbs.``Counterparty country``.``SG:Singapore`` ]  \n",
"\n",
"filter.Get()\n",
"        |\u003e Seq.map (fun o -\u003e \n",
"                        o.values\n",
"                            |\u003e Seq.filter (fun v -\u003e v.value.IsSome)\n",
"                            |\u003e Seq.map (fun v -\u003e v.value.Value)\n",
"                            |\u003e (fun x -\u003e Chart.Line(x, Name = o.key)))\n",
"    |\u003e Chart.Combine\n",
"    |\u003e Chart.WithLegend(true, Title=\"Switzerland vis-à-vis Bahamas and Singapore\")\n",
"    |\u003e Chart.Show \n"]
          }
,
          {
           "cell_type": "markdown",
           "metadata": {},
           
           "source": ["![BIS CBS Chart](img/BisCbsChart.jpg)\n",
"\n",
"The cbs.Filter() function returns a sequence of observations and their values for all periods. With F# you can easily slice out and aggregate data. In this code snippet we use the same filter as above and sum the values of 2000-Q1 of Bahamas and Singapore.\n"]
          }
,
          {
           "cell_type": "code",
           "metadata": {},
            "execution_count": 4, "outputs": [], 
           "source": ["let sum = filter.Get()\n",
"            |\u003e Seq.map (fun o -\u003e \n",
"                            o.values\n",
"                                |\u003e Seq.find (fun v -\u003e v.year = 2000 \u0026\u0026 v.period = 1 \u0026\u0026 v.value.IsSome))\n",
"                                |\u003e Seq.map (fun v -\u003e v.value.Value)\n",
"            |\u003e Seq.sum\n"]
          }
,
          {
           "cell_type": "markdown",
           "metadata": {},
           
           "source": ["[bis]: https://www.bis.org/\n",
"[stats]: https://www.bis.org/statistics/index.htm?l=2\u0026m=6%7C37\n",
"[exp]: http://stats.bis.org/statx/toc/LBS.html\n",
"[whouse]: http://stats.bis.org/bis-stats-tool/org.bis.stats.ui.StatsApplication/StatsApplication.html\n",
"[raw]: http://www.bis.org/statistics/full_data_sets.htm\n",
"\n"]
          }],
            "metadata": {
            "kernelspec": {"display_name": ".NET (F#)", "language": "F#", "name": ".net-fsharp"},
            "langauge_info": {
        "file_extension": ".fs",
        "mimetype": "text/x-fsharp",
        "name": "C#",
        "pygments_lexer": "fsharp",
        "version": "4.5"
        }
        },
            "nbformat": 4,
            "nbformat_minor": 1
        }
        

