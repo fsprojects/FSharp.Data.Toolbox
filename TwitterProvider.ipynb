
        {
            "cells": [
          {
           "cell_type": "markdown",
           "metadata": {},
           
           "source": ["[![Binder](img/badge-binder.svg)](https://mybinder.org/v2/gh/fsprojects/FSharp.Data.Toolbox/gh-pages?filepath=TwitterProvider.ipynb)\u0026emsp;\n",
"[![Script](img/badge-script.svg)](/FSharp.Data.Toolbox//TwitterProvider.fsx)\u0026emsp;\n",
"[![Notebook](img/badge-notebook.svg)](/FSharp.Data.Toolbox//TwitterProvider.ipynb)\n",
"\n",
"F# Data Toolbox: Twitter type provider\n",
"========================\n",
"\n",
"The Twitter type provider makes Twitter data easily accessible \n",
"by providing a light wrapper around the Twitter API. \n",
"\n",
"Connecting to Twitter\n",
"-----------------------------------------\n",
"Twitter requires developers to register their applications to gain access\n",
"to its API. You have to register your application at\n",
"[Twitter Apps](https://apps.twitter.com/). \n",
"After registration, Twitter provides API key and API secret to authenticate the application.\n",
"\n"]
          }
,
          {
           "cell_type": "code",
           "metadata": {},
            "execution_count": null, "outputs": [], 
           "source": ["#r \"nuget: FSharp.Data.Toolbox.Twitter,0.20.2\"\n"]
          }
,
          {
           "cell_type": "markdown",
           "metadata": {},
           
           "source": ["You can use FSharp.Data.Toolbox in [dotnet interactive](https://github.com/dotnet/interactive) notebooks in [Visual Studio Code](https://code.visualstudio.com/) or [Jupyter](https://jupyter.org/), or in F# scripts (`.fsx` files), by referencing the package as follows:\n",
"\n",
"    // Use one of the following two lines\n",
"    #r \"nuget: FSharp.Data.Toolbox.Twitter\" // Use the latest version\n",
"    #r \"nuget: FSharp.Data.Toolbox.Twitter,0.20.2\" // Use a specific version\n",
"\n"]
          }
,
          {
           "cell_type": "code",
           "metadata": {},
            "execution_count": 3, "outputs": [], 
           "source": ["#r \"nuget: FSharp.Data\"\n",
"\n",
"open FSharp.Data.Toolbox.Twitter\n",
"open FSharp.Data\n",
"\n",
"\n",
"let key = \"mKQL29XNemjQbLlQ8t0pBg\"\n",
"let secret = \"T27HLDve1lumQykBUgYAbcEkbDrjBe6gwbu0gqi4saM\"\n"]
          }
,
          {
           "cell_type": "markdown",
           "metadata": {},
           
           "source": ["There are two types of possible connections to Twitter,\n",
"application-only and full OAuth authentication. They provide \n",
"different access rights and different number of [allowed requests\n",
"per time window](https://dev.twitter.com/docs/rate-limiting/1.1/limits).\n",
"\n",
"### Connecting with application-only authentication\n",
"The [application-only authentication](https://dev.twitter.com/docs/auth/application-only-auth)\n",
" provides access that\u0027s \n",
"limited to data reachable without the full user context.\n",
"For example, it allows accessing friends and followers and searching\n",
"in tweets.\n",
"This is how the application obtains acess credentials:  \n"]
          }
,
          {
           "cell_type": "code",
           "metadata": {},
            "execution_count": 4, "outputs": [], 
           "source": ["let twitter = Twitter.AuthenticateAppOnly(key, secret)\n"]
          }
,
          {
           "cell_type": "markdown",
           "metadata": {},
           
           "source": ["### Connecting with OAuth\n",
"This method of access provides full user context for the application. \n",
"Compared to application-only access, it can also access Streaming, \n",
"search for users and post tweets on behalf of the user.\n",
"\n",
"To connect with OAuth, we first create a Twitter connector.\n",
"with your user name and password. You\u0027ll get a PIN that you \n",
"use as an argument for the Connect function. This user authentication\n",
"allows full access to Twitter APIs.\n",
"\n"]
          }
,
          {
           "cell_type": "code",
           "metadata": {},
            "execution_count": null, "outputs": [], 
           "source": ["let connector = Twitter.Authenticate(key, secret) \n",
"\n",
"// Run this part after you obtain PIN\n",
"let twitter = connector.Connect(\"8779691\")\n"]
          }
,
          {
           "cell_type": "markdown",
           "metadata": {},
           
           "source": ["![Twitter login window](img/OAuthWindow.png)\n",
"\n",
"After connecting to Twitter, you can call methods to access \n",
"Twitter users, list followers and friends, search for tweets and\n",
"access the global Twitter stream. All the methods send http requests\n",
"to Twitter and return JSON documents. They are parsed using JSON\n",
"type provider, which allows to access individual properties.\n",
"\n",
"Accessing friends and followers\n",
"---------------------------------------\n",
"The following examples show how to access lists of followers\n",
"and friends (followed accounts). Users can be identified either\n",
"by their Twitter name, or by their user ID number.\n",
"\n"]
          }
,
          {
           "cell_type": "code",
           "metadata": {},
            "execution_count": 5, "outputs": [], 
           "source": ["// Get a list of ID numbers of friends and followers \n",
"// for the current signed-in user\n",
"// (requires full authentication)\n",
"let friends = twitter.Connections.FriendsIds()\n",
"let followers = twitter.Connections.FollowerIds()\n",
"printfn \"Number of friends: %d\" (friends.Ids |\u003e Seq.length)\n",
"printfn \"Number of followers: %d\" (followers.Ids |\u003e Seq.length)\n",
"\n",
"// Get a list IDs of friends and followers for a specific user \n",
"let followersFSorg = twitter.Connections.FriendsIds(userId=880772426L)\n",
"let friendsFSorg = twitter.Connections.FollowerIds(screenName=\"fsharporg\")\n",
"\n",
"// Get information about connection between specific users\n",
"let fs = twitter.Connections.Friendship(880772426L, 94144339L)\n",
"fs.Relationship.Source.ScreenName\n",
"fs.Relationship.Target.ScreenName\n",
"fs.Relationship.Source.Following\n",
"fs.Relationship.Source.FollowedBy\n"]
          }
,
          {
           "cell_type": "markdown",
           "metadata": {},
           
           "source": ["We can also search for information about a list of users, specified \n",
"either by IDs or by their screen names. It\u0027s possible to search for\n",
"up to 100 users at a time. \n"]
          }
,
          {
           "cell_type": "code",
           "metadata": {},
            "execution_count": 6, "outputs": [], 
           "source": ["let friendInfos = twitter.Users.Lookup(friends.Ids |\u003e Seq.truncate 100)\n",
"for friend in friendInfos do\n",
"  printfn \"%s (@%s)\\t\\t%d\" friend.Name friend.ScreenName friend.Id\n"]
          }
,
          {
           "cell_type": "markdown",
           "metadata": {},
           
           "source": ["Searching for tweets\n",
"-----------------------------------\n",
"We can search Twitter for tweets using keywords. The following snippet shows\n",
"how to search for tweets containing the #fsharp tag. \n",
"\n"]
          }
,
          {
           "cell_type": "code",
           "metadata": {},
            "execution_count": 7, "outputs": [], 
           "source": ["let fsharpTweets = twitter.Search.Tweets(\"#fsharp\", count=100)\n",
"\n",
"for status in fsharpTweets.Statuses do\n",
"  printfn \"@%s: %s\" status.User.ScreenName status.Text\n",
"  \n"]
          }
,
          {
           "cell_type": "markdown",
           "metadata": {},
           
           "source": ["Accessing timelines\n",
"--------------------------------------\n",
"Let\u0027s look at how to access Twitter timelines. Timelines show a stream\n",
"of tweets from followed accounts. \n",
"\n",
"We can access timelines for specific users, or the home timeline\n",
"of the current signed-in user. \n"]
          }
,
          {
           "cell_type": "code",
           "metadata": {},
            "execution_count": 8, "outputs": [], 
           "source": ["// Access home timeline\n",
"// (requires full user authentication)\n",
"let home = twitter.Timelines.HomeTimeline()\n",
"\n",
"// Timeline of a specific user, up to a specified number of tweets\n",
"let timeline = twitter.Timelines.Timeline(\"fsharporg\", 10)\n"]
          }
,
          {
           "cell_type": "markdown",
           "metadata": {},
           
           "source": ["We can display the Timeline in a web browser. We first create a\n",
"web browser window. Then we download timeline for a specific user,\n",
"in this case it\u0027s [@fsharporg](https://twitter.com/fsharporg). \n",
"Finally, we display individual tweets in the web browser.\n"]
          }
,
          {
           "cell_type": "code",
           "metadata": {},
            "execution_count": 9, "outputs": [], 
           "source": ["// Display timeline\n",
"let timeline = twitter.Timelines.Timeline(\"fsharporg\")\n",
"for tweet in timeline do\n",
"    printfn $\"{tweet.User.Name}: {tweet.Text}\" \n"]
          }
,
          {
           "cell_type": "markdown",
           "metadata": {},
           
           "source": ["Output:\n",
"```text\n",
"Hear from F# creator Don S… https://t.co/N8mYEXVPrv\n",
"fsharp.org: Announcing the Winter 2021 round of the #fsharp Mentorship program https://t.co/88zkM9YEgZ Applications being accepted now!\n",
"fsharp.org: Welcome to 2021! #fsharp https://t.co/wYu0MHw8hp\n",
"fsharp.org: @voh_ing We will figure it out for you - sorry for the confusion.\n",
"fsharp.org: Three videos on understanding the F# Compiler are now available on our YouTube channel https://t.co/gK2BTvyL8E #fsharp\n",
"fsharp.org: First free tickets to F# Exchange as part of the Diversity Program have already been allocated. If you are a member… https://t.co/cB4aDi6c4u\n",
"fsharp.org: We have 10 free tickets to F# Exchange available for members of any minority underrepresented in technology! Reach… https://t.co/Jy5qOHe5A0\n",
"fsharp.org: We are excited to see the return of the Applied F# Challenge for 2021! https://t.co/uNaEVZVkYt Call for judges is now open. #fsharp\n",
"fsharp.org: The F# Software Foundation is now accepting applications for the 9th round of the #fsharp mentorship program! https://t.co/ZieMmsL8pl\n",
"fsharp.org: Our Annual Members Meeting is starting now on Slack! All members are welcome to attend, we hope to see you there :) #fsharp\n",
"fsharp.org: With a slight delay, our newly elected Board will be revealed at the Annual Members Meeting, Aug 5th, \n",
"hope to see y… https://t.co/rUeK7KJRMO\n",
"fsharp.org: Reminder: the annual FSSF Board election is underway!\n",
"If you have someone in mind to represent you and the F# Commu… https://t.co/in6FlHqNxX\n",
"fsharp.org: Our annual Board election is underway!\n",
"2020 being what it is, there are probably bigger things on your mind that th… https://t.co/g1FmcTQjCi\n",
"fsharp.org: Please read our full statement: https://t.co/eSOf6y5air  #fsharp #BlackLivesMatter\n",
"fsharp.org: Again, Black Lives Matter.\n",
"...\n",
"```\n"]
          }
,
          {
           "cell_type": "code",
           "metadata": {},
            "execution_count": 10, "outputs": [], 
           "source": ["// Access mentions timeline\n",
"// (requires full user authentication)\n",
"let mention = twitter.Timelines.MentionTimeline()\n",
"for tweet in mention do\n",
"    printfn $\"{tweet.User.Name}: {tweet.Text}\" \n"]
          }
,
          {
           "cell_type": "markdown",
           "metadata": {},
           
           "source": ["Streaming data \n",
"--------------------------------------\n",
"Streaming allows access to live Twitter data, as they\u0027re posted. \n",
"To access Streaming API, the application must have full user\n",
"authentication. \n",
"\n",
"If we reuse the web browser window created in the previous \n",
"code sample, we can display a random sample of tweets in the following\n",
"way.\n"]
          }
,
          {
           "cell_type": "code",
           "metadata": {},
            "execution_count": 11, "outputs": [], 
           "source": ["// Display stream with live data\n",
"let subscribe f obs = \n",
"  let ctx = System.Threading.SynchronizationContext.Current\n",
"  if ctx = null then obs |\u003e Observable.subscribe f\n",
"  else obs |\u003e Observable.subscribe (fun v -\u003e ctx.Post((fun _ -\u003e f v), null))\n",
"\n",
"let sample = twitter.Streaming.SampleTweets()\n",
"sample.TweetReceived |\u003e subscribe (fun status -\u003e\n",
"    match status.Text, status.User with\n",
"    | text, user -\u003e\n",
"        printfn $\"{user.Name}: {text}\"\n",
"    | _ -\u003e ()  )\n",
"\n",
"sample.Start()\n",
"\n",
"sample.Stop()\n"]
          }
,
          {
           "cell_type": "markdown",
           "metadata": {},
           
           "source": ["We can also search the Twitter stream for a specific hashtag or phrase. \n",
"The following code will filter all tweets that contain the word \"fsharp\" \n",
"from the global stream of tweets.\n"]
          }
,
          {
           "cell_type": "code",
           "metadata": {},
            "execution_count": 12, "outputs": [], 
           "source": ["// Display live search data \n",
"\n",
"let search = twitter.Streaming.FilterTweets [\"fsharp\"]\n",
"sample.TweetReceived |\u003e subscribe (fun status -\u003e\n",
"    match status.Text, status.User with\n",
"    | text, user -\u003e\n",
"        printfn $\"{user.Name}: {text}\"\n",
"    | _ -\u003e ()  )\n",
"\n",
"search.Start()\n",
"\n",
"search.Stop()\n"]
          }],
            "metadata": {
            "kernelspec": {"display_name": ".NET (F#)", "language": "F#", "name": ".net-fsharp"},
            "langauge_info": {
        "file_extension": ".fs",
        "mimetype": "text/x-fsharp",
        "name": "C#",
        "pygments_lexer": "fsharp",
        "version": "4.5"
        }
        },
            "nbformat": 4,
            "nbformat_minor": 1
        }
        

